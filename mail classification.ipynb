{
 "cells": [
  {
   "cell_type": "markdown",
   "id": "dda0cc66-44ee-4ff9-b816-338a4e427b19",
   "metadata": {},
   "source": [
    "## Import Modules "
   ]
  },
  {
   "cell_type": "code",
   "execution_count": 1,
   "id": "445799db-4c8b-48f1-befc-1c6acf913d29",
   "metadata": {},
   "outputs": [],
   "source": [
    "# Import the dependencies\n",
    "import numpy as np\n",
    "import pandas as pd\n",
    "from sklearn.model_selection import train_test_split\n",
    "import tensorflow as tf"
   ]
  },
  {
   "cell_type": "markdown",
   "id": "dce5ea87-01a8-4a77-9d3e-abfdd36db45b",
   "metadata": {},
   "source": [
    "## Loading the Dataset"
   ]
  },
  {
   "cell_type": "code",
   "execution_count": 2,
   "id": "e99ab707-4ada-49f9-9d4a-39ec840f957d",
   "metadata": {},
   "outputs": [],
   "source": [
    "# Read the dataset\n",
    "adress = r'Spam Email raw text for NLP.csv'\n",
    "df = pd.read_csv(adress)"
   ]
  },
  {
   "cell_type": "code",
   "execution_count": 3,
   "id": "5887e1f3-897b-43af-99af-705b90de2838",
   "metadata": {},
   "outputs": [
    {
     "data": {
      "text/html": [
       "<div>\n",
       "<style scoped>\n",
       "    .dataframe tbody tr th:only-of-type {\n",
       "        vertical-align: middle;\n",
       "    }\n",
       "\n",
       "    .dataframe tbody tr th {\n",
       "        vertical-align: top;\n",
       "    }\n",
       "\n",
       "    .dataframe thead th {\n",
       "        text-align: right;\n",
       "    }\n",
       "</style>\n",
       "<table border=\"1\" class=\"dataframe\">\n",
       "  <thead>\n",
       "    <tr style=\"text-align: right;\">\n",
       "      <th></th>\n",
       "      <th>CATEGORY</th>\n",
       "      <th>MESSAGE</th>\n",
       "      <th>FILE_NAME</th>\n",
       "    </tr>\n",
       "  </thead>\n",
       "  <tbody>\n",
       "    <tr>\n",
       "      <th>0</th>\n",
       "      <td>1</td>\n",
       "      <td>Dear Homeowner,\\n\\n \\n\\nInterest Rates are at ...</td>\n",
       "      <td>00249.5f45607c1bffe89f60ba1ec9f878039a</td>\n",
       "    </tr>\n",
       "    <tr>\n",
       "      <th>1</th>\n",
       "      <td>1</td>\n",
       "      <td>ATTENTION: This is a MUST for ALL Computer Use...</td>\n",
       "      <td>00373.ebe8670ac56b04125c25100a36ab0510</td>\n",
       "    </tr>\n",
       "    <tr>\n",
       "      <th>2</th>\n",
       "      <td>1</td>\n",
       "      <td>This is a multi-part message in MIME format.\\n...</td>\n",
       "      <td>00214.1367039e50dc6b7adb0f2aa8aba83216</td>\n",
       "    </tr>\n",
       "    <tr>\n",
       "      <th>3</th>\n",
       "      <td>1</td>\n",
       "      <td>IMPORTANT INFORMATION:\\n\\n\\n\\nThe new domain n...</td>\n",
       "      <td>00210.050ffd105bd4e006771ee63cabc59978</td>\n",
       "    </tr>\n",
       "    <tr>\n",
       "      <th>4</th>\n",
       "      <td>1</td>\n",
       "      <td>This is the bottom line.  If you can GIVE AWAY...</td>\n",
       "      <td>00033.9babb58d9298daa2963d4f514193d7d6</td>\n",
       "    </tr>\n",
       "  </tbody>\n",
       "</table>\n",
       "</div>"
      ],
      "text/plain": [
       "   CATEGORY                                            MESSAGE  \\\n",
       "0         1  Dear Homeowner,\\n\\n \\n\\nInterest Rates are at ...   \n",
       "1         1  ATTENTION: This is a MUST for ALL Computer Use...   \n",
       "2         1  This is a multi-part message in MIME format.\\n...   \n",
       "3         1  IMPORTANT INFORMATION:\\n\\n\\n\\nThe new domain n...   \n",
       "4         1  This is the bottom line.  If you can GIVE AWAY...   \n",
       "\n",
       "                                FILE_NAME  \n",
       "0  00249.5f45607c1bffe89f60ba1ec9f878039a  \n",
       "1  00373.ebe8670ac56b04125c25100a36ab0510  \n",
       "2  00214.1367039e50dc6b7adb0f2aa8aba83216  \n",
       "3  00210.050ffd105bd4e006771ee63cabc59978  \n",
       "4  00033.9babb58d9298daa2963d4f514193d7d6  "
      ]
     },
     "execution_count": 3,
     "metadata": {},
     "output_type": "execute_result"
    }
   ],
   "source": [
    "# First five rows\n",
    "df.head()"
   ]
  },
  {
   "cell_type": "markdown",
   "id": "beec7a0e-3389-42ca-a5ea-e7d02ed93218",
   "metadata": {},
   "source": [
    "## PreProcessing"
   ]
  },
  {
   "cell_type": "code",
   "execution_count": 4,
   "id": "53139881-b335-445d-befd-60119f3682ba",
   "metadata": {},
   "outputs": [
    {
     "data": {
      "text/plain": [
       "CATEGORY     0\n",
       "MESSAGE      0\n",
       "FILE_NAME    0\n",
       "dtype: int64"
      ]
     },
     "execution_count": 4,
     "metadata": {},
     "output_type": "execute_result"
    }
   ],
   "source": [
    "# Check for nulls\n",
    "df.isnull().sum()"
   ]
  },
  {
   "cell_type": "code",
   "execution_count": 5,
   "id": "ce7334f6-8141-41ba-95b4-1ca1776a7eaf",
   "metadata": {},
   "outputs": [
    {
     "name": "stdout",
     "output_type": "stream",
     "text": [
      "<class 'pandas.core.frame.DataFrame'>\n",
      "RangeIndex: 5796 entries, 0 to 5795\n",
      "Data columns (total 3 columns):\n",
      " #   Column     Non-Null Count  Dtype \n",
      "---  ------     --------------  ----- \n",
      " 0   CATEGORY   5796 non-null   int64 \n",
      " 1   MESSAGE    5796 non-null   object\n",
      " 2   FILE_NAME  5796 non-null   object\n",
      "dtypes: int64(1), object(2)\n",
      "memory usage: 136.0+ KB\n"
     ]
    }
   ],
   "source": [
    "df.info()"
   ]
  },
  {
   "cell_type": "code",
   "execution_count": 10,
   "id": "26050b4a-c8ca-4e16-aed4-fce879f5b221",
   "metadata": {},
   "outputs": [],
   "source": [
    "# Function for standardizing lenght of sequences\n",
    "def get_sequences(texts, tokenizer, train = True, max_seq_length = None):\n",
    "\n",
    "    sequences = tokenizer.texts_to_sequences(texts)\n",
    "\n",
    "    if train == True:\n",
    "        max_seq_length = np.max(list(map(lambda x : len(x), sequences)))\n",
    "\n",
    "    sequences = tf.keras.preprocessing.sequence.pad_sequences(sequences, maxlen = max_seq_length, padding = 'post')\n",
    "\n",
    "    return sequences\n"
   ]
  },
  {
   "cell_type": "code",
   "execution_count": 11,
   "id": "19f5b202-f4c1-433d-8f41-f953d8591e6f",
   "metadata": {},
   "outputs": [],
   "source": [
    "# Define a function for preprocessing\n",
    "def preprocess(df):\n",
    "    df = df.copy()\n",
    "    \n",
    "    # Drop FILE_NAME column\n",
    "    df = df.drop('FILE_NAME', axis = 1)\n",
    "    \n",
    "    # Split data into X and y\n",
    "    y = df['CATEGORY']\n",
    "    X = df['MESSAGE']\n",
    "\n",
    "    # Train test split\n",
    "    X_train, X_test, y_train, y_test = train_test_split(X, y, test_size = 0.3, shuffle = True, random_state = 1)\n",
    "\n",
    "    # Create tokenizer\n",
    "    tokenizer = tf.keras.preprocessing.text.Tokenizer(num_words = 30000)\n",
    "\n",
    "    # Fit the tokenizer\n",
    "    tokenizer.fit_on_texts(X_train)\n",
    "\n",
    "    # Convert text to sequences\n",
    "    X_train = get_sequences(X_train, tokenizer, train = True)\n",
    "    X_test = get_sequences(X_test, tokenizer, train = False, max_seq_length = X_train.shape[1])\n",
    "    \n",
    "    return X_train, X_test, y_train, y_test"
   ]
  },
  {
   "cell_type": "code",
   "execution_count": 12,
   "id": "2de3d8d2-61f2-4578-a7f4-d6b6fb762e06",
   "metadata": {},
   "outputs": [],
   "source": [
    "# Split data into train and test set\n",
    "X_train, X_test, y_train, y_test = preprocess(df)"
   ]
  },
  {
   "cell_type": "code",
   "execution_count": 13,
   "id": "51456fb5-8c3d-4c08-9027-4eedf8e447cf",
   "metadata": {},
   "outputs": [
    {
     "data": {
      "text/plain": [
       "CATEGORY\n",
       "0    2738\n",
       "1    1319\n",
       "Name: count, dtype: int64"
      ]
     },
     "execution_count": 13,
     "metadata": {},
     "output_type": "execute_result"
    }
   ],
   "source": [
    "# Check for imbalance data\n",
    "y_train.value_counts()"
   ]
  },
  {
   "cell_type": "markdown",
   "id": "8b5fe276-789c-4f20-8ae2-4364e1848019",
   "metadata": {},
   "source": [
    "## Train the model"
   ]
  },
  {
   "cell_type": "code",
   "execution_count": 14,
   "id": "1ada7e9c-cd49-4435-b946-3fa4ed91e9c7",
   "metadata": {},
   "outputs": [
    {
     "data": {
      "text/plain": [
       "(4057, 14804)"
      ]
     },
     "execution_count": 14,
     "metadata": {},
     "output_type": "execute_result"
    }
   ],
   "source": [
    "X_train.shape"
   ]
  },
  {
   "cell_type": "code",
   "execution_count": 17,
   "id": "9d9c63d2-2628-470c-88bc-51dfa6ca1df7",
   "metadata": {},
   "outputs": [],
   "source": [
    "inputs = tf.keras.Input(shape = (14804,))\n",
    "embedding = tf.keras.layers.Embedding(\n",
    "    input_dim = 30000,\n",
    "    output_dim = 64\n",
    ")(inputs)"
   ]
  },
  {
   "cell_type": "code",
   "execution_count": 19,
   "id": "239bfd35-a847-4705-ac7f-f436de9fe541",
   "metadata": {},
   "outputs": [],
   "source": [
    "flatten = tf.keras.layers.Flatten()(embedding)"
   ]
  },
  {
   "cell_type": "code",
   "execution_count": 21,
   "id": "1073d913-6718-431c-b193-531bb20ecb66",
   "metadata": {},
   "outputs": [],
   "source": [
    "outputs = tf.keras.layers.Dense(1, activation = 'sigmoid')(flatten)"
   ]
  },
  {
   "cell_type": "code",
   "execution_count": 22,
   "id": "b527dd73-298c-450f-a499-5a866298b888",
   "metadata": {},
   "outputs": [],
   "source": [
    "model = tf.keras.Model(inputs = inputs, outputs = outputs)"
   ]
  },
  {
   "cell_type": "code",
   "execution_count": 23,
   "id": "93be734d-e391-4bf8-be06-c1b5ced234f2",
   "metadata": {},
   "outputs": [],
   "source": [
    "model.compile(\n",
    "    optimizer = 'adam',\n",
    "    loss = 'binary_crossentropy',\n",
    "    metrics = [\n",
    "        'accuracy',\n",
    "        tf.keras.metrics.AUC(name = 'auc')\n",
    "    ]\n",
    ")"
   ]
  },
  {
   "cell_type": "code",
   "execution_count": 24,
   "id": "8076c5a7-8b69-48ee-af66-e2c3c6a0bc43",
   "metadata": {},
   "outputs": [
    {
     "name": "stdout",
     "output_type": "stream",
     "text": [
      "Model: \"model\"\n",
      "_________________________________________________________________\n",
      " Layer (type)                Output Shape              Param #   \n",
      "=================================================================\n",
      " input_1 (InputLayer)        [(None, 14804)]           0         \n",
      "                                                                 \n",
      " embedding (Embedding)       (None, 14804, 64)         1920000   \n",
      "                                                                 \n",
      " flatten_1 (Flatten)         (None, 947456)            0         \n",
      "                                                                 \n",
      " dense_1 (Dense)             (None, 1)                 947457    \n",
      "                                                                 \n",
      "=================================================================\n",
      "Total params: 2,867,457\n",
      "Trainable params: 2,867,457\n",
      "Non-trainable params: 0\n",
      "_________________________________________________________________\n",
      "None\n"
     ]
    }
   ],
   "source": [
    "print(model.summary())"
   ]
  },
  {
   "cell_type": "code",
   "execution_count": 27,
   "id": "c3bea04f-d831-4471-9af2-173c590f4bf6",
   "metadata": {},
   "outputs": [
    {
     "name": "stdout",
     "output_type": "stream",
     "text": [
      "Epoch 1/100\n",
      "102/102 [==============================] - 22s 216ms/step - loss: 0.0330 - accuracy: 0.9929 - auc: 0.9997 - val_loss: 0.0393 - val_accuracy: 0.9877 - val_auc: 0.9991\n",
      "Epoch 2/100\n",
      "102/102 [==============================] - 22s 216ms/step - loss: 0.0113 - accuracy: 0.9991 - auc: 1.0000 - val_loss: 0.0350 - val_accuracy: 0.9877 - val_auc: 0.9991\n",
      "Epoch 3/100\n",
      "102/102 [==============================] - 23s 221ms/step - loss: 0.0062 - accuracy: 0.9994 - auc: 1.0000 - val_loss: 0.0336 - val_accuracy: 0.9877 - val_auc: 0.9991\n",
      "Epoch 4/100\n",
      "102/102 [==============================] - 22s 217ms/step - loss: 0.0041 - accuracy: 0.9994 - auc: 1.0000 - val_loss: 0.0322 - val_accuracy: 0.9901 - val_auc: 0.9991\n",
      "Epoch 5/100\n",
      "102/102 [==============================] - 22s 217ms/step - loss: 0.0030 - accuracy: 0.9994 - auc: 1.0000 - val_loss: 0.0329 - val_accuracy: 0.9877 - val_auc: 0.9991\n",
      "Epoch 6/100\n",
      "102/102 [==============================] - 22s 221ms/step - loss: 0.0022 - accuracy: 0.9994 - auc: 1.0000 - val_loss: 0.0345 - val_accuracy: 0.9889 - val_auc: 0.9975\n",
      "Epoch 7/100\n",
      "102/102 [==============================] - 22s 220ms/step - loss: 0.0018 - accuracy: 0.9994 - auc: 1.0000 - val_loss: 0.0350 - val_accuracy: 0.9877 - val_auc: 0.9975\n"
     ]
    }
   ],
   "source": [
    "history = model.fit(\n",
    "        X_train, \n",
    "        y_train, \n",
    "        validation_split = 0.2, \n",
    "        batch_size = 32, \n",
    "        epochs = 100, \n",
    "        callbacks = [\n",
    "            tf.keras.callbacks.EarlyStopping(\n",
    "                monitor = 'val_loss', \n",
    "                patience = 3, \n",
    "                restore_best_weights = True\n",
    "            )\n",
    "        ]\n",
    ")"
   ]
  },
  {
   "cell_type": "markdown",
   "id": "93a3d288-4316-47b5-af1a-a2d1b3232908",
   "metadata": {},
   "source": [
    "## Results"
   ]
  },
  {
   "cell_type": "code",
   "execution_count": 29,
   "id": "a376c728-09e6-40b5-98a2-2e23e87520f5",
   "metadata": {},
   "outputs": [
    {
     "name": "stdout",
     "output_type": "stream",
     "text": [
      "Test Loss : 0.0240\n",
      "Test Accuracy : 99.31\n",
      "Test AUC : 0.9988\n"
     ]
    }
   ],
   "source": [
    "results = model.evaluate(X_test, y_test, verbose = 0)\n",
    "\n",
    "print('Test Loss : {:.4f}'.format(results[0]))\n",
    "print('Test Accuracy : {:.2f}'.format(results[1]*100))\n",
    "print('Test AUC : {:.4f}'.format(results[2]))"
   ]
  },
  {
   "cell_type": "code",
   "execution_count": null,
   "id": "edbf030e-d5b2-46be-9272-be6930dba9d6",
   "metadata": {},
   "outputs": [],
   "source": []
  }
 ],
 "metadata": {
  "kernelspec": {
   "display_name": "Python 3 (ipykernel)",
   "language": "python",
   "name": "python3"
  },
  "language_info": {
   "codemirror_mode": {
    "name": "ipython",
    "version": 3
   },
   "file_extension": ".py",
   "mimetype": "text/x-python",
   "name": "python",
   "nbconvert_exporter": "python",
   "pygments_lexer": "ipython3",
   "version": "3.9.1"
  }
 },
 "nbformat": 4,
 "nbformat_minor": 5
}
